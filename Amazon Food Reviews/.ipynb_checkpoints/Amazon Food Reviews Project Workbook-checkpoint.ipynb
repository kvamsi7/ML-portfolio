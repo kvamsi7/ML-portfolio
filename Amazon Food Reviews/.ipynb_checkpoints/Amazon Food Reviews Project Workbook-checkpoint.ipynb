{
 "cells": [
  {
   "cell_type": "markdown",
   "id": "f4da7955-80af-42a9-852b-5001d9e50476",
   "metadata": {},
   "source": [
    "# Amazon Food Reviews "
   ]
  },
  {
   "cell_type": "code",
   "execution_count": 8,
   "id": "fdff6c75-d8d4-4f9f-9652-ed16533214c3",
   "metadata": {},
   "outputs": [],
   "source": [
    "import pandas as pd\n",
    "import numpy as np\n",
    "import matplotlib.pyplot as plt\n",
    "import seaborn as sns\n",
    "\n",
    "#sklearn\n",
    "from sklearn.feature_extraction.text import TfidfTransformer\n",
    "from sklearn.feature_extraction.text import TfidfVectorizer\n",
    "from sklearn.feature_extraction.text import CountVectorizer\n",
    "from sklearn.metrics import confusion_matrix\n",
    "from sklearn import metrics\n",
    "from sklearn.metrics import auc,roc_curve\n",
    "\n",
    "# NLP\n",
    "import re, string\n",
    "import nltk\n",
    "from nltk.stem.porter import PorterStemmer\n",
    "from nltk.corpus import stopwords\n",
    "from nltk.stem.wordnet import WordNetLemmatizer\n",
    "import gensim\n",
    "from gensim.models import Word2Vec\n",
    "from gensim.models import KeyedVectors\n",
    "import pickle, os, sys, json, warnings\n",
    "\n",
    "%matplotlib inline"
   ]
  },
  {
   "cell_type": "code",
   "execution_count": 7,
   "id": "e741e1c5-a66b-41e1-b40a-b3c96faf09cd",
   "metadata": {},
   "outputs": [
    {
     "name": "stdout",
     "output_type": "stream",
     "text": [
      "Collecting gensim\n",
      "  Downloading gensim-4.3.3-cp310-cp310-win_amd64.whl.metadata (8.2 kB)\n",
      "Requirement already satisfied: numpy<2.0,>=1.18.5 in c:\\users\\vamsi7\\anaconda3\\envs\\pytchgpu\\lib\\site-packages (from gensim) (1.26.4)\n",
      "Collecting scipy<1.14.0,>=1.7.0 (from gensim)\n",
      "  Downloading scipy-1.13.1-cp310-cp310-win_amd64.whl.metadata (60 kB)\n",
      "Requirement already satisfied: smart-open>=1.8.1 in c:\\users\\vamsi7\\anaconda3\\envs\\pytchgpu\\lib\\site-packages (from gensim) (7.0.4)\n",
      "Requirement already satisfied: wrapt in c:\\users\\vamsi7\\anaconda3\\envs\\pytchgpu\\lib\\site-packages (from smart-open>=1.8.1->gensim) (1.16.0)\n",
      "Downloading gensim-4.3.3-cp310-cp310-win_amd64.whl (24.0 MB)\n",
      "   ---------------------------------------- 0.0/24.0 MB ? eta -:--:--\n",
      "    --------------------------------------- 0.5/24.0 MB 17.5 MB/s eta 0:00:02\n",
      "   - -------------------------------------- 0.8/24.0 MB 1.7 MB/s eta 0:00:14\n",
      "   - -------------------------------------- 1.0/24.0 MB 1.6 MB/s eta 0:00:15\n",
      "   --- ------------------------------------ 2.4/24.0 MB 2.8 MB/s eta 0:00:08\n",
      "   ------- -------------------------------- 4.7/24.0 MB 4.7 MB/s eta 0:00:05\n",
      "   ----------- ---------------------------- 6.8/24.0 MB 5.7 MB/s eta 0:00:04\n",
      "   --------------- ------------------------ 9.4/24.0 MB 6.6 MB/s eta 0:00:03\n",
      "   ------------------- -------------------- 11.8/24.0 MB 7.0 MB/s eta 0:00:02\n",
      "   ---------------------- ----------------- 13.6/24.0 MB 7.3 MB/s eta 0:00:02\n",
      "   -------------------------- ------------- 15.7/24.0 MB 7.6 MB/s eta 0:00:02\n",
      "   ----------------------------- ---------- 17.6/24.0 MB 7.7 MB/s eta 0:00:01\n",
      "   -------------------------------- ------- 19.7/24.0 MB 7.9 MB/s eta 0:00:01\n",
      "   ------------------------------------ --- 21.8/24.0 MB 8.0 MB/s eta 0:00:01\n",
      "   ---------------------------------------  23.9/24.0 MB 8.2 MB/s eta 0:00:01\n",
      "   ---------------------------------------- 24.0/24.0 MB 8.0 MB/s eta 0:00:00\n",
      "Downloading scipy-1.13.1-cp310-cp310-win_amd64.whl (46.2 MB)\n",
      "   ---------------------------------------- 0.0/46.2 MB ? eta -:--:--\n",
      "   - -------------------------------------- 1.8/46.2 MB 10.1 MB/s eta 0:00:05\n",
      "   --- ------------------------------------ 3.9/46.2 MB 9.8 MB/s eta 0:00:05\n",
      "   ----- ---------------------------------- 6.0/46.2 MB 10.0 MB/s eta 0:00:05\n",
      "   ------ --------------------------------- 7.9/46.2 MB 9.7 MB/s eta 0:00:04\n",
      "   -------- ------------------------------- 9.7/46.2 MB 9.7 MB/s eta 0:00:04\n",
      "   ---------- ----------------------------- 11.8/46.2 MB 9.6 MB/s eta 0:00:04\n",
      "   ------------ --------------------------- 13.9/46.2 MB 9.6 MB/s eta 0:00:04\n",
      "   ------------- -------------------------- 16.0/46.2 MB 9.7 MB/s eta 0:00:04\n",
      "   --------------- ------------------------ 17.8/46.2 MB 9.7 MB/s eta 0:00:03\n",
      "   ----------------- ---------------------- 19.9/46.2 MB 9.7 MB/s eta 0:00:03\n",
      "   ------------------ --------------------- 21.5/46.2 MB 9.6 MB/s eta 0:00:03\n",
      "   -------------------- ------------------- 23.9/46.2 MB 9.7 MB/s eta 0:00:03\n",
      "   ---------------------- ----------------- 25.7/46.2 MB 9.6 MB/s eta 0:00:03\n",
      "   ----------------------- ---------------- 27.5/46.2 MB 9.5 MB/s eta 0:00:02\n",
      "   ------------------------- -------------- 29.6/46.2 MB 9.5 MB/s eta 0:00:02\n",
      "   --------------------------- ------------ 31.7/46.2 MB 9.6 MB/s eta 0:00:02\n",
      "   ----------------------------- ---------- 34.1/46.2 MB 9.6 MB/s eta 0:00:02\n",
      "   ------------------------------- -------- 36.4/46.2 MB 9.7 MB/s eta 0:00:02\n",
      "   --------------------------------- ------ 38.8/46.2 MB 9.7 MB/s eta 0:00:01\n",
      "   ----------------------------------- ---- 41.2/46.2 MB 9.8 MB/s eta 0:00:01\n",
      "   ------------------------------------- -- 43.5/46.2 MB 10.0 MB/s eta 0:00:01\n",
      "   ---------------------------------------  45.9/46.2 MB 10.0 MB/s eta 0:00:01\n",
      "   ---------------------------------------- 46.2/46.2 MB 9.8 MB/s eta 0:00:00\n",
      "Installing collected packages: scipy, gensim\n",
      "  Attempting uninstall: scipy\n",
      "    Found existing installation: scipy 1.14.1\n",
      "    Uninstalling scipy-1.14.1:\n",
      "      Successfully uninstalled scipy-1.14.1\n",
      "Successfully installed gensim-4.3.3 scipy-1.13.1\n"
     ]
    },
    {
     "name": "stderr",
     "output_type": "stream",
     "text": [
      "  WARNING: Failed to remove contents in a temporary directory 'C:\\Users\\vamsi7\\anaconda3\\envs\\pyTchGPU\\Lib\\site-packages\\~cipy.libs'.\n",
      "  You can safely remove it manually.\n",
      "  WARNING: Failed to remove contents in a temporary directory 'C:\\Users\\vamsi7\\anaconda3\\envs\\pyTchGPU\\Lib\\site-packages\\~cipy'.\n",
      "  You can safely remove it manually.\n"
     ]
    }
   ],
   "source": []
  },
  {
   "cell_type": "code",
   "execution_count": null,
   "id": "844dac83-d646-4325-80cd-213520bef8e2",
   "metadata": {},
   "outputs": [],
   "source": []
  }
 ],
 "metadata": {
  "kernelspec": {
   "display_name": "Python 3 (ipykernel)",
   "language": "python",
   "name": "python3"
  },
  "language_info": {
   "codemirror_mode": {
    "name": "ipython",
    "version": 3
   },
   "file_extension": ".py",
   "mimetype": "text/x-python",
   "name": "python",
   "nbconvert_exporter": "python",
   "pygments_lexer": "ipython3",
   "version": "3.10.14"
  }
 },
 "nbformat": 4,
 "nbformat_minor": 5
}
