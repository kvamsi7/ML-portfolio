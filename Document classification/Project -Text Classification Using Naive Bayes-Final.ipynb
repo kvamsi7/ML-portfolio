{
 "cells": [
  {
   "cell_type": "markdown",
   "metadata": {},
   "source": [
    "## Tasks"
   ]
  },
  {
   "cell_type": "markdown",
   "metadata": {},
   "source": [
    ">1. Perform Test Classification using Multinomial Naive Bayes(already implemented in sklearn).\n",
    ">2. Implement Naive Bayes on your own from scratch for text classification. \n",
    ">3. Compare Results of your implementation of Naive Bayes with one in Sklearn.\n",
    "\n",
    "> Dataset - http://archive.ics.uci.edu/ml/datasets/Twenty+\n",
    "\n",
    "- @author : vamsi Krishna katam\n",
    "- github : kvamsi7"
   ]
  },
  {
   "cell_type": "markdown",
   "metadata": {},
   "source": [
    "> ### Importing necessary libraries and packages"
   ]
  },
  {
   "cell_type": "code",
   "execution_count": 1,
   "metadata": {},
   "outputs": [],
   "source": [
    "import pandas as pd\n",
    "import numpy as np\n",
    "import os\n",
    "import os.path\n",
    "import re\n",
    "from string import punctuation\n",
    "from sklearn.naive_bayes import MultinomialNB\n",
    "from sklearn.metrics import confusion_matrix,classification_report\n",
    "from sklearn.model_selection import train_test_split\n",
    "import matplotlib.pyplot as plt\n",
    "from tqdm.notebook import tqdm\n",
    "%matplotlib inline"
   ]
  },
  {
   "cell_type": "markdown",
   "metadata": {},
   "source": [
    "> ### Data Preparation "
   ]
  },
  {
   "cell_type": "code",
   "execution_count": 2,
   "metadata": {},
   "outputs": [],
   "source": [
    "# reading the stopwords which have collected from internet\n",
    "\n",
    "def read_stopwords(path):    \n",
    "        \"\"\" will take the file name and then traverse over the file to list out the stopwords\n",
    "\n",
    "        Args:\n",
    "            path (string): file name or the path\n",
    "\n",
    "        Returns:\n",
    "            list: a list of stopwords\n",
    "        \"\"\"        \n",
    "        # reading the specified file using with command\n",
    "        with open(path) as file:\n",
    "            data = file.readlines()\n",
    "        \n",
    "        #list to store the stopwords\n",
    "        stopwords = []\n",
    "        \n",
    "        #traversing over each line of the data read from the file\n",
    "        for i in data:\n",
    "            \n",
    "            # removing the trailing or preceeding the spaces\n",
    "            i = i.strip()\n",
    "            \n",
    "            # appending the word to the list\n",
    "            stopwords.append(i)\n",
    "        \n",
    "        # returning the list\n",
    "        return stopwords\n",
    "\n",
    "# calling function to get stopwords from file which collected from the internet\n",
    "stopwords = read_stopwords('stopwords.txt')"
   ]
  },
  {
   "cell_type": "code",
   "execution_count": 3,
   "metadata": {},
   "outputs": [],
   "source": [
    "# avoid special charecters, using punctuation in the string package# to eliminate the punctuations\n",
    "\n",
    "punctuations = [i for i in punctuation]"
   ]
  },
  {
   "cell_type": "markdown",
   "metadata": {},
   "source": [
    ">>  ### Creating Vocabulary dictionary"
   ]
  },
  {
   "cell_type": "code",
   "execution_count": 4,
   "metadata": {},
   "outputs": [],
   "source": [
    "def read_data(path,stopwords):\n",
    "    \"\"\" will take the path and read the documents in the location and then will create \n",
    "        a vocabulary dictionary which contain the frequencies of each word \n",
    "\n",
    "    Args:\n",
    "        path (string): path where the text documents are located\n",
    "        stopwords (list): a list of stopwords which needs to be excluded \n",
    "\n",
    "    Returns:\n",
    "        dictionary: words dictionary with their frequencies\n",
    "    \"\"\"    \n",
    "    # dictionary to store the words frequency \n",
    "    data = {}\n",
    "    \n",
    "    # storing the current loc for backup\n",
    "    current_loc = os.getcwd()\n",
    "    \n",
    "    # listing out the directories in the specified path\n",
    "    dirlist = os.listdir(path)\n",
    "    \n",
    "    \n",
    "    # creating the dictionary to store the classes and their respective labeling value\n",
    "    ylabels = {}\n",
    "    \n",
    "    # counter varaible to track the classes\n",
    "    y_lables_c = 0\n",
    "    \n",
    "    #finding the number of directories\n",
    "    num_dirs = len(dirlist)\n",
    "    \n",
    "    # using the tqdm for the progress bar,the value remains same\n",
    "    for j in tqdm(range(num_dirs)):\n",
    "        \n",
    "        # current directory\n",
    "        i = dirlist[j]\n",
    "        \n",
    "        # joining the directory to the path\n",
    "        new_path = os.path.join(path,i)\n",
    "        \n",
    "        # changing the current directory with the modified path\n",
    "        os.chdir(new_path)\n",
    "        \n",
    "        # travesing through each file in the current directory\n",
    "        for file in os.listdir(new_path):\n",
    "            \n",
    "            # reading the file \n",
    "            with open(file,'r') as f:\n",
    "                file_data = f.read()\n",
    "                \n",
    "            # searching for the words in the data using the regex module \n",
    "            tokens = re.compile('\\w+').findall(file_data)\n",
    "            \n",
    "            # travesing on each word\n",
    "            for word in tokens:\n",
    "                # string the word and converting the string to lower \n",
    "                word = word.strip().lower()\n",
    "                \n",
    "                # only taking those words which are not part of stopwords and their length is greater than\n",
    "                # 3 and the word is not part of punctuations and if the word is alphabets\n",
    "                if word not in stopwords and len(word) > 3 and word not in punctuations and word.isalpha():\n",
    "                    \n",
    "                    # updating the frequency of the word if already there, else will initialize with 0\n",
    "                    data[word] = data.get(word,0) + 1\n",
    "        \n",
    "        # for ease of use, labeling the class name in numeric way\n",
    "        ylabels[i] = y_lables_c\n",
    "        \n",
    "        #updating the counter \n",
    "        y_lables_c += 1\n",
    "    \n",
    "    # changing the current directory back to the backed up location\n",
    "    os.curdir = current_loc\n",
    "    \n",
    "    # returning the frequency dictionary and the y_labels dictionary\n",
    "    return data,ylabels"
   ]
  },
  {
   "cell_type": "code",
   "execution_count": 5,
   "metadata": {},
   "outputs": [
    {
     "data": {
      "application/vnd.jupyter.widget-view+json": {
       "model_id": "d6ac9c17d3cf4e5bbf39f46addc54776",
       "version_major": 2,
       "version_minor": 0
      },
      "text/plain": [
       "HBox(children=(FloatProgress(value=0.0, max=20.0), HTML(value='')))"
      ]
     },
     "metadata": {},
     "output_type": "display_data"
    },
    {
     "name": "stdout",
     "output_type": "stream",
     "text": [
      "\n"
     ]
    }
   ],
   "source": [
    "# creating our vocabulory dictionary which will get the words and their frequency and classes dictionary\n",
    "\n",
    "vocabulory,classes = read_data(r'C:\\Users\\vamsi katam\\Desktop\\CN\\Datasets\\newsgroups_for_text_classification\\20_newsgroups',stopwords)"
   ]
  },
  {
   "cell_type": "markdown",
   "metadata": {},
   "source": [
    "##### sorting the vocabulory dictionary based on the values"
   ]
  },
  {
   "cell_type": "code",
   "execution_count": 6,
   "metadata": {},
   "outputs": [],
   "source": [
    "# dictionary to store the sorted words\n",
    "sorted_vocabulory = {}\n",
    "\n",
    "#sorting the dictionary keys basis of their values using sorted method in decreasing order\n",
    "sorted_keys = sorted(vocabulory,key = vocabulory.get,reverse=True)\n",
    "\n",
    "#traversing through all the keys and updating the sorted dictionary\n",
    "for i in sorted_keys:\n",
    "    sorted_vocabulory[i] = vocabulory[i]"
   ]
  },
  {
   "cell_type": "markdown",
   "metadata": {},
   "source": [
    "##### lets plot the words and their frequencies"
   ]
  },
  {
   "cell_type": "code",
   "execution_count": 7,
   "metadata": {
    "scrolled": true
   },
   "outputs": [
    {
     "data": {
      "image/png": "[encoded data removed]",
      "text/plain": [
       "<Figure size 1440x360 with 1 Axes>"
      ]
     },
     "metadata": {},
     "output_type": "display_data"
    }
   ],
   "source": [
    "# taking the dictionary keys and values to the variables\n",
    "words = list(vocabulory.keys())\n",
    "frequencies = list(vocabulory.values())\n",
    "\n",
    "# lets put limit to avoid, lesser frequency values\n",
    "lower_limit = 0\n",
    "upper_limit = 3000\n",
    "\n",
    "# changing the plot size\n",
    "plt.figure(figsize=(20,5))\n",
    "\n",
    "# using the words might be tedias in this plot cause of long range, hence use number, since it does\n",
    "# not really matter to look in the features\n",
    "plt.plot(np.arange(len(words))[lower_limit:upper_limit],frequencies[lower_limit:upper_limit])\n",
    "plt.title(\"Words vs Frequency\",size = 14)\n",
    "plt.xlabel(\"Frequency\",size= 14)\n",
    "plt.ylabel(\"Words\",size = 14)\n",
    "\n",
    "# giving the xticks for more detailed view\n",
    "plt.xticks(np.arange(lower_limit,upper_limit,50),rotation = 90,size = 14)\n",
    "plt.grid()\n",
    "plt.show()"
   ]
  },
  {
   "cell_type": "markdown",
   "metadata": {},
   "source": [
    "From the graph we can see that the frequency of the words after the around 3000 is very less near to be zero, so lets take the features as top 3000 words"
   ]
  },
  {
   "cell_type": "code",
   "execution_count": 8,
   "metadata": {},
   "outputs": [],
   "source": [
    "# picking the top 3000 words as out features for now, we can tune this, later if we want to\n",
    "\n",
    "features = [i for i,j in list(sorted_vocabulory.items())[:3000]]"
   ]
  },
  {
   "cell_type": "code",
   "execution_count": 9,
   "metadata": {},
   "outputs": [],
   "source": [
    "# adding class as a target feature to the featur names.\n",
    "features.append('Class')"
   ]
  },
  {
   "cell_type": "markdown",
   "metadata": {},
   "source": [
    "> ### Building the dataset from the given documents"
   ]
  },
  {
   "cell_type": "code",
   "execution_count": 10,
   "metadata": {},
   "outputs": [],
   "source": [
    "def get_words(file,vocabulory):\n",
    "    \"\"\" this function will take the file and the read the data which includes only the features\n",
    "        which are there in vocabulary\n",
    "\n",
    "    Args:\n",
    "        file (path): file to read the words \n",
    "        vocabulory (list): features which only needs to include\n",
    "    \"\"\"     \n",
    "    \n",
    "    # a list to store the words \n",
    "    words = []\n",
    "    \n",
    "    # reading the file\n",
    "    with open(file,'r') as f:\n",
    "        file_data = f.read()\n",
    "    \n",
    "    # listing out all the words which satisfy the below regex\n",
    "    tokens = re.compile('\\w+').findall(file_data)\n",
    "    \n",
    "    # traversing on each word\n",
    "    for word in tokens:\n",
    "        \n",
    "        # striping out preceeding and exceeding space and converting the word to lower form\n",
    "        word = word.strip().lower()\n",
    "        \n",
    "        # if the word is in vocabulary list\n",
    "        if word in vocabulory:\n",
    "            # appending to the words list \n",
    "            words.append(word)\n",
    "    \n",
    "    # returning the words\n",
    "    return words"
   ]
  },
  {
   "cell_type": "code",
   "execution_count": 11,
   "metadata": {},
   "outputs": [],
   "source": [
    "def prepare_data(path,vocabulory_list,y_labels):\n",
    "    \"\"\"''' will go to the specified path and read all the documents in the location one by one\n",
    "        then will scan word by word and increase the frequency and will return the updated\n",
    "        dataframe\n",
    "    '''\n",
    "\n",
    "    Args:\n",
    "        path (string): pathe to read the documents\n",
    "        vocabulory_list (list): features/words list\n",
    "        y_labels (dictionary): dictionary with labeled classes\n",
    "\n",
    "    Returns:\n",
    "        array : an array with the rows which contain the frequencies of each feature over all documents\n",
    "    \"\"\"   \n",
    "\n",
    "    # finding the features length \n",
    "    vocabulory_len = len(vocabulory_list)\n",
    "    \n",
    "    # to get the current location\n",
    "    current_loc = os.getcwd()\n",
    "\n",
    "    # creating the an array with the length of features\n",
    "    freq_array = np.zeros(vocabulory_len,dtype=int)\n",
    "\n",
    "    # accessing the directories list of current path\n",
    "    dirlist = os.listdir(path)\n",
    "    \n",
    "    #finding the number of directories\n",
    "    num_dirs = len(dirlist)\n",
    "    \n",
    "    # using the tqdm for the progress bar,the value remains same\n",
    "    for j in tqdm(range(num_dirs)):\n",
    "\n",
    "        # current directory\n",
    "        i = dirlist[j]\n",
    "\n",
    "        # adding the current directory to the path\n",
    "        new_path = os.path.join(path,i)\n",
    "\n",
    "        # changing the current location to new location\n",
    "        os.chdir(new_path)\n",
    "\n",
    "        # traversing through each document of the current directory\n",
    "        for file in os.listdir(new_path):\n",
    "\n",
    "            # creating an integer array with length of features length\n",
    "            doc_row = np.zeros(vocabulory_len,dtype=int)\n",
    "\n",
    "            #accessing the current class from y_labels dictionary\n",
    "            doc_class = y_labels[i]\n",
    "\n",
    "            # inserting the class in the end feature of array\n",
    "            doc_row[-1] = doc_class\n",
    "\n",
    "            # calling function to get the words of each file\n",
    "            words = get_words(file,vocabulory_list)\n",
    "\n",
    "            # traversing through each word of the words\n",
    "            for word in words:\n",
    "\n",
    "                # incrementing the frequency by 1 on each found of the word\n",
    "                doc_row[vocabulory_list.index(word)] = doc_row[vocabulory_list.index(word)] + 1\n",
    "\n",
    "            # concating the both array so that on every iteration we add a row for each document read\n",
    "            freq_array = np.c_[freq_array,doc_row]\n",
    "    \n",
    "    # changing the current location back to actual one which we took backup\n",
    "    os.curdir = current_loc\n",
    "\n",
    "    # returning the array which will have the frequencies\n",
    "    return freq_array"
   ]
  },
  {
   "cell_type": "code",
   "execution_count": 12,
   "metadata": {},
   "outputs": [
    {
     "data": {
      "application/vnd.jupyter.widget-view+json": {
       "model_id": "de93b870a5974a179adf0fc91a05f42e",
       "version_major": 2,
       "version_minor": 0
      },
      "text/plain": [
       "HBox(children=(FloatProgress(value=0.0, max=20.0), HTML(value='')))"
      ]
     },
     "metadata": {},
     "output_type": "display_data"
    },
    {
     "name": "stdout",
     "output_type": "stream",
     "text": [
      "\n"
     ]
    }
   ],
   "source": [
    "# we will get the dataframe with the features frequency having the rows as each document data\n",
    "\n",
    "frequency_data = prepare_data(r'C:\\Users\\vamsi katam\\Desktop\\CN\\Datasets\\newsgroups_for_text_classification\\20_newsgroups',\n",
    "    features,classes)"
   ]
  },
  {
   "cell_type": "code",
   "execution_count": 13,
   "metadata": {},
   "outputs": [
    {
     "data": {
      "text/plain": [
       "(3001, 20000)"
      ]
     },
     "execution_count": 13,
     "metadata": {},
     "output_type": "execute_result"
    }
   ],
   "source": [
    "frequency_data.shape"
   ]
  },
  {
   "cell_type": "markdown",
   "metadata": {},
   "source": [
    ">> ### Creating Dataframe with the frequency data"
   ]
  },
  {
   "cell_type": "code",
   "execution_count": 14,
   "metadata": {},
   "outputs": [],
   "source": [
    "freq_df = pd.DataFrame(frequency_data.T,columns=features)"
   ]
  },
  {
   "cell_type": "code",
   "execution_count": 15,
   "metadata": {},
   "outputs": [
    {
     "data": {
      "text/html": [
       "<div>\n",
       "<style scoped>\n",
       "    .dataframe tbody tr th:only-of-type {\n",
       "        vertical-align: middle;\n",
       "    }\n",
       "\n",
       "    .dataframe tbody tr th {\n",
       "        vertical-align: top;\n",
       "    }\n",
       "\n",
       "    .dataframe thead th {\n",
       "        text-align: right;\n",
       "    }\n",
       "</style>\n",
       "<table border=\"1\" class=\"dataframe\">\n",
       "  <thead>\n",
       "    <tr style=\"text-align: right;\">\n",
       "      <th></th>\n",
       "      <th>news</th>\n",
       "      <th>cantaloupe</th>\n",
       "      <th>message</th>\n",
       "      <th>subject</th>\n",
       "      <th>lines</th>\n",
       "      <th>date</th>\n",
       "      <th>newsgroups</th>\n",
       "      <th>path</th>\n",
       "      <th>organization</th>\n",
       "      <th>state</th>\n",
       "      <th>...</th>\n",
       "      <th>beach</th>\n",
       "      <th>eating</th>\n",
       "      <th>lang</th>\n",
       "      <th>offense</th>\n",
       "      <th>micro</th>\n",
       "      <th>iowa</th>\n",
       "      <th>selected</th>\n",
       "      <th>missions</th>\n",
       "      <th>gerry</th>\n",
       "      <th>Class</th>\n",
       "    </tr>\n",
       "  </thead>\n",
       "  <tbody>\n",
       "    <tr>\n",
       "      <th>count</th>\n",
       "      <td>20000.000000</td>\n",
       "      <td>20000.000000</td>\n",
       "      <td>20000.000000</td>\n",
       "      <td>20000.000000</td>\n",
       "      <td>20000.00000</td>\n",
       "      <td>20000.000000</td>\n",
       "      <td>20000.000000</td>\n",
       "      <td>20000.000000</td>\n",
       "      <td>20000.000000</td>\n",
       "      <td>20000.000000</td>\n",
       "      <td>...</td>\n",
       "      <td>20000.000000</td>\n",
       "      <td>20000.00000</td>\n",
       "      <td>20000.00000</td>\n",
       "      <td>20000.000000</td>\n",
       "      <td>20000.00000</td>\n",
       "      <td>20000.000000</td>\n",
       "      <td>20000.000000</td>\n",
       "      <td>20000.000000</td>\n",
       "      <td>20000.000000</td>\n",
       "      <td>20000.000000</td>\n",
       "    </tr>\n",
       "    <tr>\n",
       "      <th>mean</th>\n",
       "      <td>1.715500</td>\n",
       "      <td>1.302450</td>\n",
       "      <td>1.097750</td>\n",
       "      <td>1.079500</td>\n",
       "      <td>1.04475</td>\n",
       "      <td>1.039400</td>\n",
       "      <td>1.020250</td>\n",
       "      <td>1.018500</td>\n",
       "      <td>0.992050</td>\n",
       "      <td>0.942150</td>\n",
       "      <td>...</td>\n",
       "      <td>0.008900</td>\n",
       "      <td>0.00890</td>\n",
       "      <td>0.00890</td>\n",
       "      <td>0.008900</td>\n",
       "      <td>0.00890</td>\n",
       "      <td>0.008900</td>\n",
       "      <td>0.008900</td>\n",
       "      <td>0.008900</td>\n",
       "      <td>0.008900</td>\n",
       "      <td>9.499650</td>\n",
       "    </tr>\n",
       "    <tr>\n",
       "      <th>std</th>\n",
       "      <td>1.480834</td>\n",
       "      <td>0.459548</td>\n",
       "      <td>0.554446</td>\n",
       "      <td>0.779558</td>\n",
       "      <td>0.36229</td>\n",
       "      <td>0.316153</td>\n",
       "      <td>0.230744</td>\n",
       "      <td>0.281001</td>\n",
       "      <td>0.309664</td>\n",
       "      <td>1.302608</td>\n",
       "      <td>...</td>\n",
       "      <td>0.128925</td>\n",
       "      <td>0.12297</td>\n",
       "      <td>0.14806</td>\n",
       "      <td>0.124586</td>\n",
       "      <td>0.15173</td>\n",
       "      <td>0.126576</td>\n",
       "      <td>0.117139</td>\n",
       "      <td>0.235422</td>\n",
       "      <td>0.203772</td>\n",
       "      <td>5.767206</td>\n",
       "    </tr>\n",
       "    <tr>\n",
       "      <th>min</th>\n",
       "      <td>0.000000</td>\n",
       "      <td>0.000000</td>\n",
       "      <td>0.000000</td>\n",
       "      <td>0.000000</td>\n",
       "      <td>0.00000</td>\n",
       "      <td>0.000000</td>\n",
       "      <td>0.000000</td>\n",
       "      <td>0.000000</td>\n",
       "      <td>0.000000</td>\n",
       "      <td>0.000000</td>\n",
       "      <td>...</td>\n",
       "      <td>0.000000</td>\n",
       "      <td>0.00000</td>\n",
       "      <td>0.00000</td>\n",
       "      <td>0.000000</td>\n",
       "      <td>0.00000</td>\n",
       "      <td>0.000000</td>\n",
       "      <td>0.000000</td>\n",
       "      <td>0.000000</td>\n",
       "      <td>0.000000</td>\n",
       "      <td>0.000000</td>\n",
       "    </tr>\n",
       "    <tr>\n",
       "      <th>25%</th>\n",
       "      <td>1.000000</td>\n",
       "      <td>1.000000</td>\n",
       "      <td>1.000000</td>\n",
       "      <td>1.000000</td>\n",
       "      <td>1.00000</td>\n",
       "      <td>1.000000</td>\n",
       "      <td>1.000000</td>\n",
       "      <td>1.000000</td>\n",
       "      <td>1.000000</td>\n",
       "      <td>0.000000</td>\n",
       "      <td>...</td>\n",
       "      <td>0.000000</td>\n",
       "      <td>0.00000</td>\n",
       "      <td>0.00000</td>\n",
       "      <td>0.000000</td>\n",
       "      <td>0.00000</td>\n",
       "      <td>0.000000</td>\n",
       "      <td>0.000000</td>\n",
       "      <td>0.000000</td>\n",
       "      <td>0.000000</td>\n",
       "      <td>4.000000</td>\n",
       "    </tr>\n",
       "    <tr>\n",
       "      <th>50%</th>\n",
       "      <td>1.000000</td>\n",
       "      <td>1.000000</td>\n",
       "      <td>1.000000</td>\n",
       "      <td>1.000000</td>\n",
       "      <td>1.00000</td>\n",
       "      <td>1.000000</td>\n",
       "      <td>1.000000</td>\n",
       "      <td>1.000000</td>\n",
       "      <td>1.000000</td>\n",
       "      <td>0.000000</td>\n",
       "      <td>...</td>\n",
       "      <td>0.000000</td>\n",
       "      <td>0.00000</td>\n",
       "      <td>0.00000</td>\n",
       "      <td>0.000000</td>\n",
       "      <td>0.00000</td>\n",
       "      <td>0.000000</td>\n",
       "      <td>0.000000</td>\n",
       "      <td>0.000000</td>\n",
       "      <td>0.000000</td>\n",
       "      <td>9.000000</td>\n",
       "    </tr>\n",
       "    <tr>\n",
       "      <th>75%</th>\n",
       "      <td>2.000000</td>\n",
       "      <td>2.000000</td>\n",
       "      <td>1.000000</td>\n",
       "      <td>1.000000</td>\n",
       "      <td>1.00000</td>\n",
       "      <td>1.000000</td>\n",
       "      <td>1.000000</td>\n",
       "      <td>1.000000</td>\n",
       "      <td>1.000000</td>\n",
       "      <td>2.000000</td>\n",
       "      <td>...</td>\n",
       "      <td>0.000000</td>\n",
       "      <td>0.00000</td>\n",
       "      <td>0.00000</td>\n",
       "      <td>0.000000</td>\n",
       "      <td>0.00000</td>\n",
       "      <td>0.000000</td>\n",
       "      <td>0.000000</td>\n",
       "      <td>0.000000</td>\n",
       "      <td>0.000000</td>\n",
       "      <td>14.000000</td>\n",
       "    </tr>\n",
       "    <tr>\n",
       "      <th>max</th>\n",
       "      <td>30.000000</td>\n",
       "      <td>2.000000</td>\n",
       "      <td>24.000000</td>\n",
       "      <td>50.000000</td>\n",
       "      <td>15.00000</td>\n",
       "      <td>14.000000</td>\n",
       "      <td>15.000000</td>\n",
       "      <td>22.000000</td>\n",
       "      <td>8.000000</td>\n",
       "      <td>21.000000</td>\n",
       "      <td>...</td>\n",
       "      <td>7.000000</td>\n",
       "      <td>6.00000</td>\n",
       "      <td>6.00000</td>\n",
       "      <td>6.000000</td>\n",
       "      <td>9.00000</td>\n",
       "      <td>10.000000</td>\n",
       "      <td>5.000000</td>\n",
       "      <td>23.000000</td>\n",
       "      <td>10.000000</td>\n",
       "      <td>19.000000</td>\n",
       "    </tr>\n",
       "  </tbody>\n",
       "</table>\n",
       "<p>8 rows × 3001 columns</p>\n",
       "</div>"
      ],
      "text/plain": [
       "               news    cantaloupe       message       subject        lines  \\\n",
       "count  20000.000000  20000.000000  20000.000000  20000.000000  20000.00000   \n",
       "mean       1.715500      1.302450      1.097750      1.079500      1.04475   \n",
       "std        1.480834      0.459548      0.554446      0.779558      0.36229   \n",
       "min        0.000000      0.000000      0.000000      0.000000      0.00000   \n",
       "25%        1.000000      1.000000      1.000000      1.000000      1.00000   \n",
       "50%        1.000000      1.000000      1.000000      1.000000      1.00000   \n",
       "75%        2.000000      2.000000      1.000000      1.000000      1.00000   \n",
       "max       30.000000      2.000000     24.000000     50.000000     15.00000   \n",
       "\n",
       "               date    newsgroups          path  organization         state  \\\n",
       "count  20000.000000  20000.000000  20000.000000  20000.000000  20000.000000   \n",
       "mean       1.039400      1.020250      1.018500      0.992050      0.942150   \n",
       "std        0.316153      0.230744      0.281001      0.309664      1.302608   \n",
       "min        0.000000      0.000000      0.000000      0.000000      0.000000   \n",
       "25%        1.000000      1.000000      1.000000      1.000000      0.000000   \n",
       "50%        1.000000      1.000000      1.000000      1.000000      0.000000   \n",
       "75%        1.000000      1.000000      1.000000      1.000000      2.000000   \n",
       "max       14.000000     15.000000     22.000000      8.000000     21.000000   \n",
       "\n",
       "           ...              beach       eating         lang       offense  \\\n",
       "count      ...       20000.000000  20000.00000  20000.00000  20000.000000   \n",
       "mean       ...           0.008900      0.00890      0.00890      0.008900   \n",
       "std        ...           0.128925      0.12297      0.14806      0.124586   \n",
       "min        ...           0.000000      0.00000      0.00000      0.000000   \n",
       "25%        ...           0.000000      0.00000      0.00000      0.000000   \n",
       "50%        ...           0.000000      0.00000      0.00000      0.000000   \n",
       "75%        ...           0.000000      0.00000      0.00000      0.000000   \n",
       "max        ...           7.000000      6.00000      6.00000      6.000000   \n",
       "\n",
       "             micro          iowa      selected      missions         gerry  \\\n",
       "count  20000.00000  20000.000000  20000.000000  20000.000000  20000.000000   \n",
       "mean       0.00890      0.008900      0.008900      0.008900      0.008900   \n",
       "std        0.15173      0.126576      0.117139      0.235422      0.203772   \n",
       "min        0.00000      0.000000      0.000000      0.000000      0.000000   \n",
       "25%        0.00000      0.000000      0.000000      0.000000      0.000000   \n",
       "50%        0.00000      0.000000      0.000000      0.000000      0.000000   \n",
       "75%        0.00000      0.000000      0.000000      0.000000      0.000000   \n",
       "max        9.00000     10.000000      5.000000     23.000000     10.000000   \n",
       "\n",
       "              Class  \n",
       "count  20000.000000  \n",
       "mean       9.499650  \n",
       "std        5.767206  \n",
       "min        0.000000  \n",
       "25%        4.000000  \n",
       "50%        9.000000  \n",
       "75%       14.000000  \n",
       "max       19.000000  \n",
       "\n",
       "[8 rows x 3001 columns]"
      ]
     },
     "execution_count": 15,
     "metadata": {},
     "output_type": "execute_result"
    }
   ],
   "source": [
    "freq_df.describe(include='all')"
   ]
  },
  {
   "cell_type": "markdown",
   "metadata": {},
   "source": [
    ">> ### saving dataset to the csv file"
   ]
  },
  {
   "cell_type": "code",
   "execution_count": 16,
   "metadata": {},
   "outputs": [],
   "source": [
    "freq_df.to_csv('text_classification_prepared_data.csv',index=False)"
   ]
  },
  {
   "cell_type": "markdown",
   "metadata": {},
   "source": [
    "> ## Training the Model"
   ]
  },
  {
   "cell_type": "markdown",
   "metadata": {},
   "source": [
    "### Using sklearn MulitinomialNB classifier"
   ]
  },
  {
   "cell_type": "markdown",
   "metadata": {},
   "source": [
    "##### splitting the data"
   ]
  },
  {
   "cell_type": "code",
   "execution_count": 17,
   "metadata": {},
   "outputs": [],
   "source": [
    "y = freq_df['Class']\n",
    "\n",
    "X = freq_df.drop('Class',axis = 1)"
   ]
  },
  {
   "cell_type": "code",
   "execution_count": 18,
   "metadata": {},
   "outputs": [],
   "source": [
    "X_train,X_test,y_train,y_test = train_test_split(X,y,test_size = 0.2,random_state = 0)"
   ]
  },
  {
   "cell_type": "code",
   "execution_count": 19,
   "metadata": {},
   "outputs": [
    {
     "name": "stdout",
     "output_type": "stream",
     "text": [
      "Train X (16000, 3000) Train y (16000,)\n",
      "Test X (4000, 3000) Test y (4000,)\n"
     ]
    }
   ],
   "source": [
    "# lets check the shapes of Train and test data\n",
    "\n",
    "print(\"Train X {} Train y {}\".format(X_train.shape,y_train.shape))\n",
    "print(\"Test X {} Test y {}\".format(X_test.shape,y_test.shape))"
   ]
  },
  {
   "cell_type": "markdown",
   "metadata": {},
   "source": [
    "#### Training the model"
   ]
  },
  {
   "cell_type": "code",
   "execution_count": 20,
   "metadata": {},
   "outputs": [
    {
     "name": "stdout",
     "output_type": "stream",
     "text": [
      "[[165   0   0   0   0   0   0   0   1   0   0   1   0   0   0   2   1   0\n",
      "    0  23]\n",
      " [  0 153  17  12   6   4   4   0   0   0   0   0   4   0   1   0   0   0\n",
      "    0   0]\n",
      " [  0   2 172   9   1   8   2   0   0   0   0   0   3   0   0   0   0   0\n",
      "    0   0]\n",
      " [  0   4   8 133  25   2   5   1   0   0   0   3   1   0   0   0   0   0\n",
      "    0   0]\n",
      " [  0   2   1  22 169   0   6   0   0   0   0   0   4   0   0   0   0   0\n",
      "    0   0]\n",
      " [  0  17  20   6   6 161   0   0   0   0   0   0   2   0   0   0   0   0\n",
      "    0   0]\n",
      " [  0   1   0   5   1   0 187   7   3   0   0   0   2   0   0   0   0   0\n",
      "    0   0]\n",
      " [  0   0   0   0   1   0   6 198   2   0   1   0   4   0   1   0   0   0\n",
      "    1   0]\n",
      " [  0   1   0   0   0   0   2   5 186   0   0   0   0   0   0   0   0   0\n",
      "    1   0]\n",
      " [  0   0   0   0   0   0   2   2   1 178   7   0   0   0   0   0   0   0\n",
      "    0   0]\n",
      " [  0   0   0   0   0   0   0   0   0   4 186   0   1   0   0   0   0   0\n",
      "    1   0]\n",
      " [  0   1   1   1   0   1   1   0   0   0   0 185   1   1   0   0   4   0\n",
      "    0   1]\n",
      " [  0   1   2   8  11   0   2   8   0   0   0   1 171   2   0   0   0   0\n",
      "    0   0]\n",
      " [  0   4   1   0   4   1   3   4  11   0   1   0   7 153   2   0   1   0\n",
      "    1   0]\n",
      " [  0   1   0   0   2   0   0   3   3   2   0   1   4   1 179   0   0   0\n",
      "    2   0]\n",
      " [  0   0   0   0   0   0   0   0   0   0   0   0   0   0   0 210   0   0\n",
      "    0   0]\n",
      " [  0   0   0   0   0   0   0   1   2   0   1   0   0   0   0   0 177   0\n",
      "   12   3]\n",
      " [  0   1   0   0   0   0   2   0   0   0   0   1   0   0   1   0   5 197\n",
      "    7   1]\n",
      " [  0   0   0   0   0   0   1   0   0   0   0   2   1   0   1   0  23  13\n",
      "  143  16]\n",
      " [ 34   0   1   2   0   0   0   0   0   0   1   0   0   0   0   6   9   1\n",
      "   19 126]]\n",
      "              precision    recall  f1-score   support\n",
      "\n",
      "           0       0.83      0.85      0.84       193\n",
      "           1       0.81      0.76      0.79       201\n",
      "           2       0.77      0.87      0.82       197\n",
      "           3       0.67      0.73      0.70       182\n",
      "           4       0.75      0.83      0.79       204\n",
      "           5       0.91      0.76      0.83       212\n",
      "           6       0.84      0.91      0.87       206\n",
      "           7       0.86      0.93      0.89       214\n",
      "           8       0.89      0.95      0.92       195\n",
      "           9       0.97      0.94      0.95       190\n",
      "          10       0.94      0.97      0.96       192\n",
      "          11       0.95      0.94      0.95       197\n",
      "          12       0.83      0.83      0.83       206\n",
      "          13       0.97      0.79      0.87       193\n",
      "          14       0.97      0.90      0.93       198\n",
      "          15       0.96      1.00      0.98       210\n",
      "          16       0.80      0.90      0.85       196\n",
      "          17       0.93      0.92      0.92       215\n",
      "          18       0.76      0.71      0.74       200\n",
      "          19       0.74      0.63      0.68       199\n",
      "\n",
      "    accuracy                           0.86      4000\n",
      "   macro avg       0.86      0.86      0.86      4000\n",
      "weighted avg       0.86      0.86      0.86      4000\n",
      "\n"
     ]
    }
   ],
   "source": [
    "# creating the object for classifier\n",
    "\n",
    "clf = MultinomialNB()\n",
    "\n",
    "# fitting the data on the classifier object\n",
    "clf.fit(X_train,y_train)\n",
    "\n",
    "# testing the classifer with y_test data and storing it\n",
    "y_pred = clf.predict(X_test)\n",
    "\n",
    "# checking the peformance of the model using confusion_matrix and classification_report\n",
    "\n",
    "print(confusion_matrix(y_test,y_pred))\n",
    "\n",
    "print(classification_report(y_test,y_pred))"
   ]
  },
  {
   "cell_type": "markdown",
   "metadata": {},
   "source": [
    "## Implementing MulitnomialNB classifier"
   ]
  },
  {
   "cell_type": "code",
   "execution_count": 21,
   "metadata": {},
   "outputs": [],
   "source": [
    "def fit(X_train,y_train):\n",
    "    '''\n",
    "    \n",
    "    return : dictionary with the frequency count of each feature\n",
    "    '''\n",
    "   \n",
    "    # initializing the count dicionary\n",
    "    count = {}\n",
    "    \n",
    "    # initializing the total count with 0\n",
    "    count['total_count'] = 0\n",
    "    \n",
    "    # storing the classes \n",
    "    classes = list(set(y_train))\n",
    "    \n",
    "    # finding the number of classes\n",
    "    num_classes = len(classes)\n",
    "    \n",
    "    for i in tqdm(range(num_classes)): # for each class\n",
    "        \n",
    "        # current class \n",
    "        current_class = classes[i]\n",
    "        \n",
    "        # creating dictionary for each class\n",
    "        count[current_class] = {}\n",
    "        \n",
    "        # storing the current class data points using the boolean array\n",
    "        current_class_rows = (y_train == current_class)\n",
    "        \n",
    "        # storing the current class X data points \n",
    "        X_train_current = X_train[current_class_rows]\n",
    "        \n",
    "        # storing the current class y data points\n",
    "        y_train_current = y_train[current_class_rows]\n",
    "        \n",
    "        # finding the features count \n",
    "        num_features = X_train.shape[1]\n",
    "        \n",
    "        # initializing the current class total count \n",
    "        count[current_class]['total_count'] = 0\n",
    "        \n",
    "        # traversing through all the features\n",
    "        for j in range(num_features):\n",
    "            \n",
    "            # finding the count of the jth word appear in the current class \n",
    "            count[current_class][j] = X_train_current[:,j].sum()\n",
    "            \n",
    "            #updating the total count value for current class\n",
    "            count[current_class]['total_count'] += count[current_class][j]\n",
    "        \n",
    "        #updating the total count of words in all the documents\n",
    "        count['total_count'] += count[current_class]['total_count']\n",
    "        \n",
    "    return count"
   ]
  },
  {
   "cell_type": "code",
   "execution_count": 22,
   "metadata": {},
   "outputs": [],
   "source": [
    "def probability(dictionary,x,current_class):\n",
    "    '''\n",
    "    '''\n",
    "    \n",
    "    # calculating the log probalities to avoid zero probabilities issue\n",
    "    # using the Mulitnomial Naive Bayes thearom formula to calculate the prior probability for particular class\n",
    "    output = np.log(dictionary[current_class]['total_count']) - np.log(dictionary['total_count'])\n",
    "    \n",
    "    # finding the total number of features\n",
    "    num_features = len(x)\n",
    "    \n",
    "    # travesing throught each feature\n",
    "    for j in range(num_features):\n",
    "        xj = x[j]\n",
    "        \n",
    "        # ignoring the features with values zero to avoid unnecessary calculations\n",
    "        if xj == 0:\n",
    "            continue\n",
    "        \n",
    "        # using the Mulitnomial Naive Bayes thearom formula to calculate the likelihood probality\n",
    "        # also added the laplase correction to avoid the zero probabilites problem\n",
    "        current_class_with_xj = dictionary[current_class][j] + 1\n",
    "        current_class_total_count = dictionary[current_class]['total_count'] + num_features\n",
    "        \n",
    "        # finding the log probabilities\n",
    "        current_xj_prob = np.log(current_class_with_xj) - np.log(current_class_total_count)\n",
    "        \n",
    "        # adding the prior probability value which compute in the beginning \n",
    "        output += current_xj_prob\n",
    "    \n",
    "    return output"
   ]
  },
  {
   "cell_type": "code",
   "execution_count": 23,
   "metadata": {},
   "outputs": [],
   "source": [
    "def predict_single_point(dictionary,x):\n",
    "    '''\n",
    "    \n",
    "    '''\n",
    "    # storing the class names from the dictionary keys\n",
    "    classes = dictionary.keys()\n",
    "    \n",
    "    # assuming the initial probability is a big negative number\n",
    "    best_prob = -1000\n",
    "    \n",
    "    # initializing the best_class to track the best predicted class\n",
    "    best_class = -1\n",
    "    \n",
    "    # using variable in order the best class in the first run\n",
    "    first_run = True\n",
    "    \n",
    "    for current_class in classes:\n",
    "        \n",
    "        # to exclude this run since total_count is one of the key in the dictionary\n",
    "        if(current_class == 'total_count'):\n",
    "            continue\n",
    "        \n",
    "        # calling probability funtion to compute the probability for current class\n",
    "        current_class_prob = probability(dictionary,x,current_class)\n",
    "        \n",
    "        if (first_run or current_class_prob > best_prob):\n",
    "            \n",
    "            #updating the best class and probabilities\n",
    "            best_prob = current_class_prob\n",
    "            best_class = current_class\n",
    "        \n",
    "        first_run = False\n",
    "        \n",
    "    # returning the best predicted class\n",
    "    return best_class"
   ]
  },
  {
   "cell_type": "code",
   "execution_count": 24,
   "metadata": {},
   "outputs": [],
   "source": [
    "def predict(dictionary,X_test):\n",
    "    ''' inputs :\n",
    "            dictionary: which will be computed while the fit function\n",
    "            X_test : nd array with test data\n",
    "        \n",
    "        return : will predict the probabilities for all the classes with respect to the words in the document and will\n",
    "        return it\n",
    "        '''\n",
    "    # a list to store the predicted class\n",
    "    y_pred = []\n",
    "    \n",
    "    # traversing through the each data points of testing data\n",
    "    for j in  tqdm(range(X_test.shape[0])):\n",
    "        \n",
    "        x = X_test[j]\n",
    "        \n",
    "        # calling predict_single_point function to get the prediction of a single data point\n",
    "        x_class = predict_single_point(dictionary,x)\n",
    "        \n",
    "        # appending to the y_pred list\n",
    "        y_pred.append(x_class)\n",
    "        \n",
    "    return y_pred"
   ]
  },
  {
   "cell_type": "code",
   "execution_count": 25,
   "metadata": {},
   "outputs": [],
   "source": [
    "# target data\n",
    "y_ = freq_df['Class'].values\n",
    "\n",
    "# input features data\n",
    "X_ = freq_df.drop('Class',axis = 1).values\n",
    "\n",
    "# splitting the train and test data\n",
    "\n",
    "X_train_,X_test_,y_train_,y_test_ = train_test_split(X_,y_,test_size = 0.25,random_state=0)"
   ]
  },
  {
   "cell_type": "markdown",
   "metadata": {},
   "source": [
    "### Fitting the data on our classifier"
   ]
  },
  {
   "cell_type": "code",
   "execution_count": 26,
   "metadata": {},
   "outputs": [
    {
     "data": {
      "application/vnd.jupyter.widget-view+json": {
       "model_id": "fb0d86f110984f98804bd723fd80a1ad",
       "version_major": 2,
       "version_minor": 0
      },
      "text/plain": [
       "HBox(children=(FloatProgress(value=0.0, max=20.0), HTML(value='')))"
      ]
     },
     "metadata": {},
     "output_type": "display_data"
    },
    {
     "name": "stdout",
     "output_type": "stream",
     "text": [
      "\n"
     ]
    }
   ],
   "source": [
    "dictionary = fit(X_train_,y_train_)"
   ]
  },
  {
   "cell_type": "code",
   "execution_count": 27,
   "metadata": {},
   "outputs": [
    {
     "data": {
      "application/vnd.jupyter.widget-view+json": {
       "model_id": "b5afbaed2c024b7ea2e861140e85875e",
       "version_major": 2,
       "version_minor": 0
      },
      "text/plain": [
       "HBox(children=(FloatProgress(value=0.0, max=5000.0), HTML(value='')))"
      ]
     },
     "metadata": {},
     "output_type": "display_data"
    },
    {
     "name": "stdout",
     "output_type": "stream",
     "text": [
      "\n"
     ]
    }
   ],
   "source": [
    "y_pred_ = predict(dictionary,X_test_)"
   ]
  },
  {
   "cell_type": "markdown",
   "metadata": {},
   "source": [
    "### Generating the Classification Report"
   ]
  },
  {
   "cell_type": "code",
   "execution_count": 28,
   "metadata": {},
   "outputs": [
    {
     "name": "stdout",
     "output_type": "stream",
     "text": [
      "[[201   0   0   0   0   0   0   0   1   1   0   1   0   2   0   1   0   1\n",
      "    1  24]\n",
      " [  1 197  21  17   7   5   0   0   0   0   0   0   4   1   0   0   0   0\n",
      "    0   0]\n",
      " [  0   6 213  12   3  11   3   0   0   0   0   0   1   0   0   0   0   0\n",
      "    0   0]\n",
      " [  0   4   9 180  37   1   4   2   0   0   0   1   2   0   0   0   0   0\n",
      "    0   0]\n",
      " [  0   2   1  26 196   1   6   0   0   0   0   1   3   0   0   0   0   0\n",
      "    0   0]\n",
      " [  1  19  24   4   3 205   0   0   1   0   0   0   0   1   0   0   0   0\n",
      "    0   0]\n",
      " [  0   0   1   3   1   1 241  10   1   0   0   0   1   0   0   0   0   0\n",
      "    0   0]\n",
      " [  0   0   0   0   0   1   4 253   1   0   0   0   3   0   0   0   2   0\n",
      "    0   0]\n",
      " [  0   0   0   0   0   0   3   3 250   0   0   0   0   0   0   0   0   0\n",
      "    0   0]\n",
      " [  0   0   0   0   0   0   1   0   1 220   7   0   0   0   0   0   0   0\n",
      "    0   0]\n",
      " [  0   0   0   0   0   0   0   2   1   5 229   0   0   0   0   0   0   0\n",
      "    2   0]\n",
      " [  0   0   1   0   0   1   1   0   0   0   0 227   2   1   0   0   2   0\n",
      "    0   1]\n",
      " [  0   3   1   8  11   0   4   5   0   0   0   0 228   1   0   0   0   0\n",
      "    0   0]\n",
      " [  0   5   2   0   2   1   2   4  13   2   1   0   5 213   1   0   0   0\n",
      "    1   0]\n",
      " [  0   6   0   0   1   0   0   2   3   2   0   0   4   0 228   0   0   0\n",
      "    3   0]\n",
      " [  0   0   0   0   0   0   0   0   0   0   0   0   0   0   0 261   0   0\n",
      "    0   0]\n",
      " [  0   0   0   0   0   0   0   0   0   0   0   0   0   0   0   0 228   0\n",
      "   13   2]\n",
      " [  1   1   0   0   0   0   2   0   0   0   0   0   1   0   0   0   8 266\n",
      "    7   2]\n",
      " [  0   0   0   0   0   0   1   0   1   0   0   3   0   1   1   0  46  14\n",
      "  158  16]\n",
      " [ 66   0   0   1   0   0   0   0   0   0   0   0   0   0   0   2  18   2\n",
      "   31 133]]\n",
      "              precision    recall  f1-score   support\n",
      "\n",
      "           0       0.74      0.86      0.80       233\n",
      "           1       0.81      0.78      0.79       253\n",
      "           2       0.78      0.86      0.82       249\n",
      "           3       0.72      0.75      0.73       240\n",
      "           4       0.75      0.83      0.79       236\n",
      "           5       0.90      0.79      0.85       258\n",
      "           6       0.89      0.93      0.91       259\n",
      "           7       0.90      0.96      0.93       264\n",
      "           8       0.92      0.98      0.95       256\n",
      "           9       0.96      0.96      0.96       229\n",
      "          10       0.97      0.96      0.96       239\n",
      "          11       0.97      0.96      0.97       236\n",
      "          12       0.90      0.87      0.89       261\n",
      "          13       0.97      0.85      0.90       252\n",
      "          14       0.99      0.92      0.95       249\n",
      "          15       0.99      1.00      0.99       261\n",
      "          16       0.75      0.94      0.83       243\n",
      "          17       0.94      0.92      0.93       288\n",
      "          18       0.73      0.66      0.69       241\n",
      "          19       0.75      0.53      0.62       253\n",
      "\n",
      "    accuracy                           0.87      5000\n",
      "   macro avg       0.87      0.86      0.86      5000\n",
      "weighted avg       0.87      0.87      0.86      5000\n",
      "\n"
     ]
    }
   ],
   "source": [
    "print(confusion_matrix(y_test_,y_pred_))\n",
    "print(classification_report(y_test_,y_pred_))"
   ]
  },
  {
   "cell_type": "markdown",
   "metadata": {},
   "source": [
    "#### As we can see the results are almost equal, infact our model is slight better if compared to sklearn report"
   ]
  },
  {
   "cell_type": "code",
   "execution_count": null,
   "metadata": {},
   "outputs": [],
   "source": []
  }
 ],
 "metadata": {
  "kernelspec": {
   "display_name": "Python 3 (ipykernel)",
   "language": "python",
   "name": "python3"
  },
  "language_info": {
   "codemirror_mode": {
    "name": "ipython",
    "version": 3
   },
   "file_extension": ".py",
   "mimetype": "text/x-python",
   "name": "python",
   "nbconvert_exporter": "python",
   "pygments_lexer": "ipython3",
   "version": "3.9.7"
  }
 },
 "nbformat": 4,
 "nbformat_minor": 2
}
