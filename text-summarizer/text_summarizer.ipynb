{
  "nbformat": 4,
  "nbformat_minor": 0,
  "metadata": {
    "colab": {
      "provenance": [],
      "authorship_tag": "ABX9TyOeq966493crYozpz14xd49",
      "include_colab_link": true
    },
    "kernelspec": {
      "name": "python3",
      "display_name": "Python 3"
    },
    "language_info": {
      "name": "python"
    },
    "widgets": {
      "application/vnd.jupyter.widget-state+json": {
        "0a8dfea93f3548c19c480283d95394ac": {
          "model_module": "@jupyter-widgets/controls",
          "model_name": "HBoxModel",
          "model_module_version": "1.5.0",
          "state": {
            "_dom_classes": [],
            "_model_module": "@jupyter-widgets/controls",
            "_model_module_version": "1.5.0",
            "_model_name": "HBoxModel",
            "_view_count": null,
            "_view_module": "@jupyter-widgets/controls",
            "_view_module_version": "1.5.0",
            "_view_name": "HBoxView",
            "box_style": "",
            "children": [
              "IPY_MODEL_baf8a1661c744f968e584275537b75c5",
              "IPY_MODEL_77c9dcd30fb240c0951918a3276c73e9",
              "IPY_MODEL_61a6d8ebcfdf495b8f0849da9915cec8"
            ],
            "layout": "IPY_MODEL_ddbc12d601a443c7bb0252d90cf2fff8"
          }
        },
        "baf8a1661c744f968e584275537b75c5": {
          "model_module": "@jupyter-widgets/controls",
          "model_name": "HTMLModel",
          "model_module_version": "1.5.0",
          "state": {
            "_dom_classes": [],
            "_model_module": "@jupyter-widgets/controls",
            "_model_module_version": "1.5.0",
            "_model_name": "HTMLModel",
            "_view_count": null,
            "_view_module": "@jupyter-widgets/controls",
            "_view_module_version": "1.5.0",
            "_view_name": "HTMLView",
            "description": "",
            "description_tooltip": null,
            "layout": "IPY_MODEL_a308ff34442a4d59b1b3b835ada43012",
            "placeholder": "​",
            "style": "IPY_MODEL_e66d787632ee465d9ccdcbd114d19257",
            "value": "100%"
          }
        },
        "77c9dcd30fb240c0951918a3276c73e9": {
          "model_module": "@jupyter-widgets/controls",
          "model_name": "FloatProgressModel",
          "model_module_version": "1.5.0",
          "state": {
            "_dom_classes": [],
            "_model_module": "@jupyter-widgets/controls",
            "_model_module_version": "1.5.0",
            "_model_name": "FloatProgressModel",
            "_view_count": null,
            "_view_module": "@jupyter-widgets/controls",
            "_view_module_version": "1.5.0",
            "_view_name": "ProgressView",
            "bar_style": "success",
            "description": "",
            "description_tooltip": null,
            "layout": "IPY_MODEL_ee84ded098c44830bde131096f5c3b26",
            "max": 92579,
            "min": 0,
            "orientation": "horizontal",
            "style": "IPY_MODEL_8586ee14a5564145b5e8559dced8d9fd",
            "value": 92579
          }
        },
        "61a6d8ebcfdf495b8f0849da9915cec8": {
          "model_module": "@jupyter-widgets/controls",
          "model_name": "HTMLModel",
          "model_module_version": "1.5.0",
          "state": {
            "_dom_classes": [],
            "_model_module": "@jupyter-widgets/controls",
            "_model_module_version": "1.5.0",
            "_model_name": "HTMLModel",
            "_view_count": null,
            "_view_module": "@jupyter-widgets/controls",
            "_view_module_version": "1.5.0",
            "_view_name": "HTMLView",
            "description": "",
            "description_tooltip": null,
            "layout": "IPY_MODEL_1e417f5cdd844f3387316a74b5c07b74",
            "placeholder": "​",
            "style": "IPY_MODEL_15d8b9473f844993b15a9743b442c418",
            "value": " 92579/92579 [00:03&lt;00:00, 24613.27it/s]"
          }
        },
        "ddbc12d601a443c7bb0252d90cf2fff8": {
          "model_module": "@jupyter-widgets/base",
          "model_name": "LayoutModel",
          "model_module_version": "1.2.0",
          "state": {
            "_model_module": "@jupyter-widgets/base",
            "_model_module_version": "1.2.0",
            "_model_name": "LayoutModel",
            "_view_count": null,
            "_view_module": "@jupyter-widgets/base",
            "_view_module_version": "1.2.0",
            "_view_name": "LayoutView",
            "align_content": null,
            "align_items": null,
            "align_self": null,
            "border": null,
            "bottom": null,
            "display": null,
            "flex": null,
            "flex_flow": null,
            "grid_area": null,
            "grid_auto_columns": null,
            "grid_auto_flow": null,
            "grid_auto_rows": null,
            "grid_column": null,
            "grid_gap": null,
            "grid_row": null,
            "grid_template_areas": null,
            "grid_template_columns": null,
            "grid_template_rows": null,
            "height": null,
            "justify_content": null,
            "justify_items": null,
            "left": null,
            "margin": null,
            "max_height": null,
            "max_width": null,
            "min_height": null,
            "min_width": null,
            "object_fit": null,
            "object_position": null,
            "order": null,
            "overflow": null,
            "overflow_x": null,
            "overflow_y": null,
            "padding": null,
            "right": null,
            "top": null,
            "visibility": null,
            "width": null
          }
        },
        "a308ff34442a4d59b1b3b835ada43012": {
          "model_module": "@jupyter-widgets/base",
          "model_name": "LayoutModel",
          "model_module_version": "1.2.0",
          "state": {
            "_model_module": "@jupyter-widgets/base",
            "_model_module_version": "1.2.0",
            "_model_name": "LayoutModel",
            "_view_count": null,
            "_view_module": "@jupyter-widgets/base",
            "_view_module_version": "1.2.0",
            "_view_name": "LayoutView",
            "align_content": null,
            "align_items": null,
            "align_self": null,
            "border": null,
            "bottom": null,
            "display": null,
            "flex": null,
            "flex_flow": null,
            "grid_area": null,
            "grid_auto_columns": null,
            "grid_auto_flow": null,
            "grid_auto_rows": null,
            "grid_column": null,
            "grid_gap": null,
            "grid_row": null,
            "grid_template_areas": null,
            "grid_template_columns": null,
            "grid_template_rows": null,
            "height": null,
            "justify_content": null,
            "justify_items": null,
            "left": null,
            "margin": null,
            "max_height": null,
            "max_width": null,
            "min_height": null,
            "min_width": null,
            "object_fit": null,
            "object_position": null,
            "order": null,
            "overflow": null,
            "overflow_x": null,
            "overflow_y": null,
            "padding": null,
            "right": null,
            "top": null,
            "visibility": null,
            "width": null
          }
        },
        "e66d787632ee465d9ccdcbd114d19257": {
          "model_module": "@jupyter-widgets/controls",
          "model_name": "DescriptionStyleModel",
          "model_module_version": "1.5.0",
          "state": {
            "_model_module": "@jupyter-widgets/controls",
            "_model_module_version": "1.5.0",
            "_model_name": "DescriptionStyleModel",
            "_view_count": null,
            "_view_module": "@jupyter-widgets/base",
            "_view_module_version": "1.2.0",
            "_view_name": "StyleView",
            "description_width": ""
          }
        },
        "ee84ded098c44830bde131096f5c3b26": {
          "model_module": "@jupyter-widgets/base",
          "model_name": "LayoutModel",
          "model_module_version": "1.2.0",
          "state": {
            "_model_module": "@jupyter-widgets/base",
            "_model_module_version": "1.2.0",
            "_model_name": "LayoutModel",
            "_view_count": null,
            "_view_module": "@jupyter-widgets/base",
            "_view_module_version": "1.2.0",
            "_view_name": "LayoutView",
            "align_content": null,
            "align_items": null,
            "align_self": null,
            "border": null,
            "bottom": null,
            "display": null,
            "flex": null,
            "flex_flow": null,
            "grid_area": null,
            "grid_auto_columns": null,
            "grid_auto_flow": null,
            "grid_auto_rows": null,
            "grid_column": null,
            "grid_gap": null,
            "grid_row": null,
            "grid_template_areas": null,
            "grid_template_columns": null,
            "grid_template_rows": null,
            "height": null,
            "justify_content": null,
            "justify_items": null,
            "left": null,
            "margin": null,
            "max_height": null,
            "max_width": null,
            "min_height": null,
            "min_width": null,
            "object_fit": null,
            "object_position": null,
            "order": null,
            "overflow": null,
            "overflow_x": null,
            "overflow_y": null,
            "padding": null,
            "right": null,
            "top": null,
            "visibility": null,
            "width": null
          }
        },
        "8586ee14a5564145b5e8559dced8d9fd": {
          "model_module": "@jupyter-widgets/controls",
          "model_name": "ProgressStyleModel",
          "model_module_version": "1.5.0",
          "state": {
            "_model_module": "@jupyter-widgets/controls",
            "_model_module_version": "1.5.0",
            "_model_name": "ProgressStyleModel",
            "_view_count": null,
            "_view_module": "@jupyter-widgets/base",
            "_view_module_version": "1.2.0",
            "_view_name": "StyleView",
            "bar_color": null,
            "description_width": ""
          }
        },
        "1e417f5cdd844f3387316a74b5c07b74": {
          "model_module": "@jupyter-widgets/base",
          "model_name": "LayoutModel",
          "model_module_version": "1.2.0",
          "state": {
            "_model_module": "@jupyter-widgets/base",
            "_model_module_version": "1.2.0",
            "_model_name": "LayoutModel",
            "_view_count": null,
            "_view_module": "@jupyter-widgets/base",
            "_view_module_version": "1.2.0",
            "_view_name": "LayoutView",
            "align_content": null,
            "align_items": null,
            "align_self": null,
            "border": null,
            "bottom": null,
            "display": null,
            "flex": null,
            "flex_flow": null,
            "grid_area": null,
            "grid_auto_columns": null,
            "grid_auto_flow": null,
            "grid_auto_rows": null,
            "grid_column": null,
            "grid_gap": null,
            "grid_row": null,
            "grid_template_areas": null,
            "grid_template_columns": null,
            "grid_template_rows": null,
            "height": null,
            "justify_content": null,
            "justify_items": null,
            "left": null,
            "margin": null,
            "max_height": null,
            "max_width": null,
            "min_height": null,
            "min_width": null,
            "object_fit": null,
            "object_position": null,
            "order": null,
            "overflow": null,
            "overflow_x": null,
            "overflow_y": null,
            "padding": null,
            "right": null,
            "top": null,
            "visibility": null,
            "width": null
          }
        },
        "15d8b9473f844993b15a9743b442c418": {
          "model_module": "@jupyter-widgets/controls",
          "model_name": "DescriptionStyleModel",
          "model_module_version": "1.5.0",
          "state": {
            "_model_module": "@jupyter-widgets/controls",
            "_model_module_version": "1.5.0",
            "_model_name": "DescriptionStyleModel",
            "_view_count": null,
            "_view_module": "@jupyter-widgets/base",
            "_view_module_version": "1.2.0",
            "_view_name": "StyleView",
            "description_width": ""
          }
        }
      }
    }
  },
  "cells": [
    {
      "cell_type": "markdown",
      "metadata": {
        "id": "view-in-github",
        "colab_type": "text"
      },
      "source": [
        "<a href=\"https://colab.research.google.com/github/kvamsi7/ML-portfolio/blob/main/text-summarizer/text_summarizer.ipynb\" target=\"_parent\"><img src=\"https://colab.research.google.com/assets/colab-badge.svg\" alt=\"Open In Colab\"/></a>"
      ]
    },
    {
      "cell_type": "code",
      "execution_count": null,
      "metadata": {
        "id": "MiIqFDk4kb_C"
      },
      "outputs": [],
      "source": [
        "# get the CNN stories dataset\n",
        "!wget https://github.com/Manning-LP-What-s-The-News/Starter-Repository/releases/download/v0.1.0/cnn_stories.tgz\n",
        "\n",
        "# untar the dataset\n",
        "!tar -xvf cnn_stories.tgz"
      ]
    },
    {
      "cell_type": "code",
      "source": [
        "from tqdm.notebook import tqdm\n",
        "import string\n",
        "import os\n",
        "import pickle"
      ],
      "metadata": {
        "id": "fGZkzZBIkgjE"
      },
      "execution_count": 9,
      "outputs": []
    },
    {
      "cell_type": "code",
      "source": [
        "def load_doc(path):\n",
        "  with open(path,'r',encoding='utf-8') as obj:\n",
        "    text = obj.read()\n",
        "  return text\n",
        "\n",
        "def split_story(doc):\n",
        "  index = doc.find('@highlight')\n",
        "\n",
        "  story, highlights = doc[:index], doc[index:].split('@highlight')\n",
        "\n",
        "  highlights = [h.strip() for h in highlights if len(h) > 0]\n",
        "\n",
        "  return story,highlights\n",
        "\n",
        "\n",
        "def load_stories(directory):\n",
        "  stories = list()\n",
        "\n",
        "  for name in tqdm(os.listdir(directory_path)):\n",
        "    file_name = directory_path + '/' + name\n",
        "\n",
        "    # load doc\n",
        "    doc = load_doc(file_name)\n",
        "\n",
        "    # split the story and highlights\n",
        "    story, highlights = split_story(doc)\n",
        "\n",
        "    stories.append({'highlights':highlights, 'story':story})\n",
        "\n",
        "  return stories\n",
        "\n",
        "def save_data(data,file_name):\n",
        "\n",
        "  with open(file_name,'wb') as file:\n",
        "    pickle.dump(data,file)\n",
        "\n",
        "  print(f\"Data has been saved to {file_name}\")"
      ],
      "metadata": {
        "id": "pqZ7ma_tlK9T"
      },
      "execution_count": 13,
      "outputs": []
    },
    {
      "cell_type": "code",
      "source": [
        "directory_path = 'cnn/stories'\n",
        "stories = load_stories(directory_path)\n",
        "data_path = 'stories_list.pkl'\n",
        "print('Loaded Stories %d '% len(stories))\n",
        "save_data(stories,data_path)"
      ],
      "metadata": {
        "colab": {
          "base_uri": "https://localhost:8080/",
          "height": 67,
          "referenced_widgets": [
            "0a8dfea93f3548c19c480283d95394ac",
            "baf8a1661c744f968e584275537b75c5",
            "77c9dcd30fb240c0951918a3276c73e9",
            "61a6d8ebcfdf495b8f0849da9915cec8",
            "ddbc12d601a443c7bb0252d90cf2fff8",
            "a308ff34442a4d59b1b3b835ada43012",
            "e66d787632ee465d9ccdcbd114d19257",
            "ee84ded098c44830bde131096f5c3b26",
            "8586ee14a5564145b5e8559dced8d9fd",
            "1e417f5cdd844f3387316a74b5c07b74",
            "15d8b9473f844993b15a9743b442c418"
          ]
        },
        "id": "KuzXehiZky9X",
        "outputId": "a0fe2412-cc6c-42a0-8ed8-3357081e8531"
      },
      "execution_count": 12,
      "outputs": [
        {
          "output_type": "display_data",
          "data": {
            "text/plain": [
              "  0%|          | 0/92579 [00:00<?, ?it/s]"
            ],
            "application/vnd.jupyter.widget-view+json": {
              "version_major": 2,
              "version_minor": 0,
              "model_id": "0a8dfea93f3548c19c480283d95394ac"
            }
          },
          "metadata": {}
        },
        {
          "output_type": "stream",
          "name": "stdout",
          "text": [
            "Loaded Stories 92579 \n"
          ]
        }
      ]
    },
    {
      "cell_type": "code",
      "source": [
        "stories[0]"
      ],
      "metadata": {
        "colab": {
          "base_uri": "https://localhost:8080/"
        },
        "id": "hWEwyMEVl2Ix",
        "outputId": "55c2d7ba-abe2-4053-c4ab-c8ae0b6bfa11"
      },
      "execution_count": 8,
      "outputs": [
        {
          "output_type": "execute_result",
          "data": {
            "text/plain": [
              "{'highlights': ['Xinhua: Three dead, three children and four others wounded',\n",
              "  'Xinhua: Police find two-foot (60-centimeter) knife that Fang said he used',\n",
              "  'Motive for attack not immediately known',\n",
              "  'The 26-year-old man tells police he was responsible'],\n",
              " 'story': \"Beijing, China (CNN) -- Police have detained a man accused of having killed at least three kindergarten students Tuesday in east China's Zibo City, Shandong Province, the city government said Wednesday, according to the state-run Xinhua News Agency.\\n\\nFang Jiantang, 26, was detained hours after the attack and has told police he was responsible, said the government in a statement.\\n\\nIn addition to the three fatalities, three other children and four teachers were wounded, it said.\\n\\nTwo of the teachers were in serious condition, it said.\\n\\nPolice found the two-foot (60-centimeter) knife that Fang said he used, the statement said.\\n\\nThe motive for the attack was not immediately known.\\n\\nThe attack is one of at least five knife or cleaver attacks on schoolchildren in China since March.\\n\\nCNN's John Vause contributed to this story.\\n\\n\"}"
            ]
          },
          "metadata": {},
          "execution_count": 8
        }
      ]
    },
    {
      "cell_type": "code",
      "source": [],
      "metadata": {
        "id": "pge3ix9Kn_3m"
      },
      "execution_count": null,
      "outputs": []
    }
  ]
}